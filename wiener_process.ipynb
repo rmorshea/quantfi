{
 "metadata": {
  "name": "",
  "signature": "sha256:07b70fe3e3afe7a2dc499beca2ac505aa0b0312bd8d8e50ba51a32651e6a2c8b"
 },
 "nbformat": 3,
 "nbformat_minor": 0,
 "worksheets": [
  {
   "cells": [
    {
     "cell_type": "code",
     "collapsed": false,
     "input": [
      "%matplotlib inline\n",
      "import numpy as np\n",
      "import matplotlib.pyplot as plt"
     ],
     "language": "python",
     "metadata": {},
     "outputs": [],
     "prompt_number": 7
    },
    {
     "cell_type": "markdown",
     "metadata": {},
     "source": [
      "Let $N(\\mu,\\sigma^2)$ be a normal distribution. A Wiener process $W(t)$ is the limit of a discrete stocastic process. To construct this process, split the total time $t$ into $n$ small intervals of length $h$: $t=nh$. Then, at each time $t_j=jh$, the change in $W$ will just be normally distributed:\n",
      "\n",
      "$$\n",
      "W_{j+1}-W_j = \\sqrt{h}Z_j\n",
      "$$\n",
      "\n",
      "where $Z_j \\sim N(0,1)$. Finally take $h\\rightarrow0$ to make it a continuous process."
     ]
    },
    {
     "cell_type": "markdown",
     "metadata": {},
     "source": [
      "Here is a Python function that implements one realization of a Wiener process:"
     ]
    },
    {
     "cell_type": "code",
     "collapsed": false,
     "input": [
      "def wiener(n, dt, t_init=0, w_init=0.0):\n",
      "    \"\"\"Returns one realization of a Wiener process with n steps of length dt.\n",
      "    The time and Wiener series can be initialized using t_init and w_init respectively.\"\"\"\n",
      "    n+=1\n",
      "    t_series = np.arange(t_init,n*dt,dt)\n",
      "    h = t_series[1]-t_series[0]\n",
      "    z = np.random.normal(0.0,1.0,n)\n",
      "    dw = np.sqrt(h)*z\n",
      "    dw[0] = w_init\n",
      "    w_series = dw.cumsum()\n",
      "    return t_series, w_series"
     ],
     "language": "python",
     "metadata": {},
     "outputs": [],
     "prompt_number": 8
    },
    {
     "cell_type": "code",
     "collapsed": false,
     "input": [
      "t, W = wiener(500,1)"
     ],
     "language": "python",
     "metadata": {},
     "outputs": [],
     "prompt_number": 9
    },
    {
     "cell_type": "code",
     "collapsed": false,
     "input": [
      "plt.plot(t,W)"
     ],
     "language": "python",
     "metadata": {},
     "outputs": [
      {
       "metadata": {},
       "output_type": "pyout",
       "prompt_number": 10,
       "text": [
        "[<matplotlib.lines.Line2D at 0x10746b5d0>]"
       ]
      },
      {
       "metadata": {},
       "output_type": "display_data",
       "png": "[encoded data removed]",
       "text": [
        "<matplotlib.figure.Figure at 0x10718c050>"
       ]
      }
     ],
     "prompt_number": 10
    },
    {
     "cell_type": "code",
     "collapsed": false,
     "input": [],
     "language": "python",
     "metadata": {},
     "outputs": []
    }
   ],
   "metadata": {}
  }
 ]
}