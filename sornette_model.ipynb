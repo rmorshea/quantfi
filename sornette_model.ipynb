{
 "cells": [
  {
   "cell_type": "code",
   "execution_count": 1,
   "metadata": {
    "collapsed": false
   },
   "outputs": [],
   "source": [
    "import random\n",
    "import textwrap\n",
    "import matplotlib.pyplot as plt\n",
    "%matplotlib inline\n",
    "import numpy as np\n",
    "from math import log\n",
    "from math import exp\n",
    "import math"
   ]
  },
  {
   "cell_type": "code",
   "execution_count": 2,
   "metadata": {
    "collapsed": false
   },
   "outputs": [],
   "source": [
    "def wiener(n, dt, t_init=0, w_init=0.0):\n",
    "    \"\"\"Returns one realization of a Wiener process with n steps of length dt.\n",
    "    The time and Wiener series can be initialized using t_init and w_init respectively.\"\"\"\n",
    "    n+=1\n",
    "    t_series = np.arange(t_init,n*dt,dt)\n",
    "    h = t_series[1]-t_series[0]\n",
    "    z = np.random.normal(0.0,1.0,n)\n",
    "    dw = np.sqrt(h)*z\n",
    "    dw[0] = w_init\n",
    "    w_series = dw.cumsum()\n",
    "    return t_series, w_series"
   ]
  },
  {
   "cell_type": "markdown",
   "metadata": {},
   "source": [
    "#Contents\n",
    "+ ###[`Model Of Speculative Financial Bubbles`](#modelS)<a href='#modelS'></a>\n",
    "    + Replicates a model presented by Didier Sornette anticipating crises in the financial markets.\n",
    "      + [**Analysis Summary:**](#modelS_ana)<a href='#modelS_ana'></a>\n",
    "       + [section 1](#modelS_sec1)<a href='#modelS_sec1'></a>"
   ]
  },
  {
   "cell_type": "markdown",
   "metadata": {},
   "source": [
    "<a id=modelS></a>\n",
    "---\n",
    "#Model Of Speculative Financial Bubbles\n",
    "Didier Sornette and his Financial Crisis Observatory have plotted a set of early warning signs for unstable systems exhibitting super exponential growth. They claim to be able to track the moment when instability will cause unexpected crashes. His work was outlined in a presentation describing his work in a [2013 TED talk](http://www.ted.com/talks/didier_sornette_how_we_can_predict_the_next_financial_crisis#t-637034). More specifically though, the work presented here references a [2008 paper on speculative bubbles](http://arxiv.org/pdf/cond-mat/0104341v2.pdf) which he published."
   ]
  },
  {
   "cell_type": "code",
   "execution_count": 3,
   "metadata": {
    "collapsed": false
   },
   "outputs": [],
   "source": [
    "def num_retrace(series, x, dt, u0, s0, p0, m, p_init=0.5):\n",
    "    if series == 'w':\n",
    "        t=0\n",
    "        alph = 1./(m-1)\n",
    "        p_t = p_init\n",
    "        p_last = p_init\n",
    "        tc = (1./p_init**(m-1))*alph/u0\n",
    "        w_series = x\n",
    "        p_series = []\n",
    "        for i in range(len(w_series)):\n",
    "            p_t = (alph/(u0*(tc-t)-s0/p0*w_series[i]))**alph\n",
    "            vari = s0*p_t**(m-1)/p0 #variance\n",
    "            mean = (m/2/p_t*vari**2+u0/p0**m*p_t**(m-1)) #mean\n",
    "            skew = u0*(tc-t) #skew\n",
    "            dj = dt*mean/skew\n",
    "            if random.random()<=dj:\n",
    "                #print 'crash at', i*dt\n",
    "                p_t = p_t*(1-abs(random.gauss(0,0.01)))\n",
    "                t=tc-(alph/p_t**(1./alph)+s0/p0*w_series[i])/u0\n",
    "            p_series.append(p_t)\n",
    "            p_last = p_t\n",
    "            t += dt\n",
    "        return p_series"
   ]
  },
  {
   "cell_type": "code",
   "execution_count": 4,
   "metadata": {
    "collapsed": false
   },
   "outputs": [
    {
     "name": "stdout",
     "output_type": "stream",
     "text": [
      "expect crash at approx 20.0\n"
     ]
    },
    {
     "data": {
      "image/png": "[encoded data removed]",
      "text/plain": [
       "<matplotlib.figure.Figure at 0x107abbad0>"
      ]
     },
     "metadata": {},
     "output_type": "display_data"
    }
   ],
   "source": [
    "n=10000\n",
    "dt=2e-3\n",
    "T,W = wiener(n,dt)\n",
    "\n",
    "m=2\n",
    "u0=0.1\n",
    "s0=np.sqrt(dt)\n",
    "p0=1\n",
    "P = num_retrace('w',W,dt,u0,s0,p0,m)\n",
    "p_init=0.5\n",
    "\n",
    "alph = 1./(m-1)\n",
    "tc = (1./p_init**(m-1))*alph/u0\n",
    "print 'expect crash at approx', tc\n",
    "\n",
    "plt.figure(figsize=(10,5))\n",
    "plt.plot(T,P)\n",
    "plt.show()"
   ]
  },
  {
   "cell_type": "code",
   "execution_count": 7,
   "metadata": {
    "collapsed": false
   },
   "outputs": [],
   "source": [
    "collection=[]\n",
    "for i in range(500):\n",
    "    n=3000\n",
    "    dt=2e-3\n",
    "    T,W = wiener(n,dt)\n",
    "\n",
    "    m=2\n",
    "    u0=0.2\n",
    "    s0=np.sqrt(dt)\n",
    "    p0=1\n",
    "    collection.append(np.array(num_retrace('w',W,dt,u0,s0,p0,m)))\n",
    "\n",
    "avg_path = [np.average(p) for p in zip(*collection)]"
   ]
  },
  {
   "cell_type": "code",
   "execution_count": 8,
   "metadata": {
    "collapsed": false
   },
   "outputs": [
    {
     "data": {
      "text/plain": [
       "[<matplotlib.lines.Line2D at 0x109ab9a10>]"
      ]
     },
     "execution_count": 8,
     "metadata": {},
     "output_type": "execute_result"
    },
    {
     "data": {
      "image/png": "[encoded data removed]",
      "text/plain": [
       "<matplotlib.figure.Figure at 0x107ab7bd0>"
      ]
     },
     "metadata": {},
     "output_type": "display_data"
    }
   ],
   "source": [
    "plt.figure(figsize=(10,5))\n",
    "plt.plot(T,avg_path)"
   ]
  },
  {
   "cell_type": "code",
   "execution_count": null,
   "metadata": {
    "collapsed": false
   },
   "outputs": [],
   "source": []
  }
 ],
 "metadata": {
  "kernelspec": {
   "display_name": "Python 2",
   "language": "python",
   "name": "python2"
  },
  "language_info": {
   "codemirror_mode": {
    "name": "ipython",
    "version": 2
   },
   "file_extension": ".py",
   "mimetype": "text/x-python",
   "name": "python",
   "nbconvert_exporter": "python",
   "pygments_lexer": "ipython2",
   "version": "2.7.11"
  }
 },
 "nbformat": 4,
 "nbformat_minor": 1
}
