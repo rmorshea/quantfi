{
 "metadata": {
  "name": "",
  "signature": "sha256:a8f56a8fc9f232bd40a3d2658fc5b9b349dc9978466f5545db257714a4b26f57"
 },
 "nbformat": 3,
 "nbformat_minor": 0,
 "worksheets": [
  {
   "cells": [
    {
     "cell_type": "code",
     "collapsed": false,
     "input": [
      "import random\n",
      "import textwrap\n",
      "import matplotlib.pyplot as plt\n",
      "%matplotlib inline\n",
      "import numpy as np\n",
      "from math import log\n",
      "from math import exp\n",
      "import math"
     ],
     "language": "python",
     "metadata": {},
     "outputs": [],
     "prompt_number": 696
    },
    {
     "cell_type": "code",
     "collapsed": false,
     "input": [
      "def wiener(n, dt, t_init=0, w_init=0.0):\n",
      "    \"\"\"Returns one realization of a Wiener process with n steps of length dt.\n",
      "    The time and Wiener series can be initialized using t_init and w_init respectively.\"\"\"\n",
      "    n+=1\n",
      "    t_series = np.arange(t_init,n*dt,dt)\n",
      "    h = t_series[1]-t_series[0]\n",
      "    z = np.random.normal(0.0,1.0,n)\n",
      "    dw = np.sqrt(h)*z\n",
      "    dw[0] = w_init\n",
      "    w_series = dw.cumsum()\n",
      "    return t_series, w_series"
     ],
     "language": "python",
     "metadata": {},
     "outputs": [],
     "prompt_number": 401
    },
    {
     "cell_type": "markdown",
     "metadata": {},
     "source": [
      "#Contents\n",
      "+ ###[`Model Of Speculative Financial Bubbles`](#modelS)<a href='#modelS'></a>\n",
      "    + Replicates a model presented by Didier Sornette anticipating crises in the financial markets.\n",
      "      + [**Analysis Summary:**](#modelS_ana)<a href='#modelS_ana'></a>\n",
      "       + [section 1](#modelS_sec1)<a href='#modelS_sec1'></a>"
     ]
    },
    {
     "cell_type": "markdown",
     "metadata": {},
     "source": [
      "<a id=modelS></a>\n",
      "---\n",
      "#Model Of Speculative Financial Bubbles\n",
      "Didier Sornette and his Financial Crisis Observatory have plotted a set of early warning signs for unstable systems exhibitting super exponential growth. They claim to be able to track the moment when instability will cause unexpected crashes. His work was outlined in a presentation describing his work in a [2013 TED talk](http://www.ted.com/talks/didier_sornette_how_we_can_predict_the_next_financial_crisis#t-637034). More specifically though, the work presented here references a [2008 paper on speculative bubbles](http://arxiv.org/pdf/cond-mat/0104341v2.pdf) which he published."
     ]
    },
    {
     "cell_type": "code",
     "collapsed": false,
     "input": [
      "def num_retrace(series, x, dt, u0, s0, p0, m, p_init=1.):\n",
      "    if series == 'w':\n",
      "        t=0\n",
      "        alph = 1./(m-1)\n",
      "        tc = (1./p_init**(m-1))*alph/u0\n",
      "        print 'expect crash at approx', tc\n",
      "        p_t = p_init\n",
      "        p_last = p_init\n",
      "        w_series = x\n",
      "        p_series = []\n",
      "        for i in range(len(w_series)):\n",
      "            p_t = (alph/(u0*(tc-t)-s0/p0*w_series[i]))**alph\n",
      "            var = s0*p_t**(m-1)/p0\n",
      "            exp = (m/2/p_t*var**2+u0/p0**m*p_t**(m-1))\n",
      "            skw = 0.2\n",
      "            dj = dt*exp/skw\n",
      "            if random.random()<=dj:\n",
      "                p_t = p_t*0.95\n",
      "                t=t*0.95\n",
      "            p_series.append(p_t)\n",
      "            p_last = p_t\n",
      "            t += dt\n",
      "        return p_series"
     ],
     "language": "python",
     "metadata": {},
     "outputs": [],
     "prompt_number": 949
    },
    {
     "cell_type": "code",
     "collapsed": false,
     "input": [
      "n=1000\n",
      "dt=3e-3\n",
      "T,W = wiener(n,dt)\n",
      "\n",
      "m=3\n",
      "u0=0.2\n",
      "s0=np.sqrt(dt)\n",
      "p0=1\n",
      "P = num_retrace('w',W,dt,u0,s0,p0,m)\n",
      "\n",
      "plt.figure(figsize=(10,5))\n",
      "plt.plot(T,P)\n",
      "plt.show()"
     ],
     "language": "python",
     "metadata": {},
     "outputs": [
      {
       "output_type": "stream",
       "stream": "stdout",
       "text": [
        "expect crash at approx 2.5\n"
       ]
      },
      {
       "metadata": {},
       "output_type": "display_data",
       "png": "[encoded data removed]",
       "text": [
        "<matplotlib.figure.Figure at 0x119e0b910>"
       ]
      }
     ],
     "prompt_number": 955
    },
    {
     "cell_type": "code",
     "collapsed": false,
     "input": [],
     "language": "python",
     "metadata": {},
     "outputs": []
    }
   ],
   "metadata": {}
  }
 ]
}